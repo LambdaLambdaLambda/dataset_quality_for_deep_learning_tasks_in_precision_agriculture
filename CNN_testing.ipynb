{
 "cells": [
  {
   "cell_type": "markdown",
   "metadata": {
    "id": "SQ-2kq0t8I9V"
   },
   "source": [
    "**LIBRARIES**"
   ]
  },
  {
   "cell_type": "code",
   "execution_count": null,
   "metadata": {
    "id": "J8nTomm11Cj0",
    "colab": {
     "base_uri": "https://localhost:8080/"
    },
    "outputId": "b6e00a99-2aba-4da0-bc47-9355fdac8d43"
   },
   "outputs": [],
   "source": [
    "!pip install --upgrade pip\n",
    "!pip install matplotlib\n",
    "!pip install tensorflow\n",
    "!pip install keras\n",
    "!pip install visualkeras\n",
    "!pip install tf-keras-vis"
   ]
  },
  {
   "cell_type": "code",
   "source": [
    "import numpy as np\n",
    "import os\n",
    "import matplotlib.pyplot as plt\n",
    "import time\n",
    "import shutil\n",
    "import random\n",
    "import itertools\n",
    "import pprint\n",
    "import json\n",
    "from sklearn.metrics import confusion_matrix"
   ],
   "metadata": {
    "id": "KpMx5ukRhuoW",
    "ExecuteTime": {
     "end_time": "2024-02-19T22:49:03.271298Z",
     "start_time": "2024-02-19T22:49:02.352374Z"
    }
   },
   "execution_count": 1,
   "outputs": []
  },
  {
   "cell_type": "code",
   "execution_count": null,
   "outputs": [],
   "source": [
    "from google.colab import drive\n",
    "drive.mount('/content/drive')"
   ],
   "metadata": {
    "collapsed": false
   }
  },
  {
   "cell_type": "code",
   "execution_count": 4,
   "outputs": [],
   "source": [
    "current_directory = os.getcwd()\n",
    "base_dir = os.path.dirname(os.path.abspath('__file__'))\n",
    "os.chdir(base_dir)"
   ],
   "metadata": {
    "collapsed": false,
    "ExecuteTime": {
     "end_time": "2024-02-19T22:51:13.831452Z",
     "start_time": "2024-02-19T22:51:13.824090Z"
    }
   }
  },
  {
   "cell_type": "code",
   "execution_count": 3,
   "metadata": {
    "id": "jvB-dCc370eL",
    "colab": {
     "base_uri": "https://localhost:8080/"
    },
    "outputId": "6bc2a5a6-28af-47db-ae15-04a6195575ea",
    "ExecuteTime": {
     "end_time": "2024-02-19T22:51:11.244784Z",
     "start_time": "2024-02-19T22:51:07.558201Z"
    }
   },
   "outputs": [
    {
     "name": "stdout",
     "output_type": "stream",
     "text": [
      "2.15.0\n"
     ]
    }
   ],
   "source": [
    "import tensorflow as tf\n",
    "from tensorflow import keras\n",
    "from tensorflow.keras.models import load_model, Sequential\n",
    "from tensorflow.keras.layers import Conv2D, MaxPooling2D, Activation, Dropout, Flatten, Dense\n",
    "from tensorflow.keras.preprocessing import image_dataset_from_directory\n",
    "import visualkeras\n",
    "from tf_keras_vis.saliency import Saliency\n",
    "from tf_keras_vis.utils import normalize\n",
    "from tf_keras_vis.utils.scores import CategoricalScore\n",
    "print(tf.__version__)"
   ]
  },
  {
   "cell_type": "markdown",
   "metadata": {
    "id": "FOWqouITcRnT"
   },
   "source": [
    "# **DATA SOURCES**"
   ]
  },
  {
   "cell_type": "code",
   "source": [
    "base_folder = '.'\n",
    "# adjust the variable base_folder to whatever directory will contain esca_dataset and esca_dataset_swapped_bg\n",
    "\n",
    "data_folders = {\n",
    "    '.': base_folder,\n",
    "    'esca_dataset': {\n",
    "        '.': os.path.join(base_folder, 'esca_dataset'),\n",
    "        'train': {\n",
    "            '.': os.path.join(base_folder, 'esca_dataset', 'train'),\n",
    "            'esca': os.path.join(base_folder, 'esca_dataset', 'train', 'esca'),\n",
    "            'healthy': os.path.join(base_folder, 'esca_dataset', 'train', 'healthy')\n",
    "        },\n",
    "        'test': {\n",
    "            '.': os.path.join(base_folder, 'esca_dataset', 'test'),\n",
    "            'esca':    os.path.join(base_folder, 'esca_dataset', 'test', 'esca'),\n",
    "            'healthy': os.path.join(base_folder, 'esca_dataset', 'test', 'healthy')\n",
    "        },\n",
    "        'validation': {\n",
    "            '.': os.path.join(base_folder, 'esca_dataset', 'validation'),\n",
    "            'esca':    os.path.join(base_folder, 'esca_dataset', 'validation', 'esca'),\n",
    "            'healthy': os.path.join(base_folder, 'esca_dataset', 'validation', 'healthy')\n",
    "        }\n",
    "    },\n",
    "    'esca_dataset_swapped_bg': {\n",
    "        '.': os.path.join(base_folder, 'esca_dataset_swapped_bg'),\n",
    "        'train': {\n",
    "            '.': os.path.join(base_folder, 'esca_dataset_swapped_bg', 'train'),\n",
    "            'esca':    os.path.join(base_folder, 'esca_dataset_swapped_bg', 'train', 'esca'),\n",
    "            'healthy': os.path.join(base_folder, 'esca_dataset_swapped_bg', 'train', 'healthy')\n",
    "        },\n",
    "        'test': {\n",
    "            '.': os.path.join(base_folder, 'esca_dataset_swapped_bg', 'test'),\n",
    "            'esca':    os.path.join(base_folder, 'esca_dataset_swapped_bg', 'test', 'esca'),\n",
    "            'healthy': os.path.join(base_folder, 'esca_dataset_swapped_bg', 'test', 'healthy')\n",
    "        },\n",
    "        'validation': {\n",
    "            '.': os.path.join(base_folder, 'esca_dataset_swapped_bg', 'validation'),\n",
    "            'esca': os.path.join(base_folder, 'esca_dataset_swapped_bg', 'validation', 'esca'),\n",
    "            'healthy': os.path.join(base_folder, 'esca_dataset_swapped_bg', 'validation', 'healthy')\n",
    "        }\n",
    "    },\n",
    "    'esca_dataset_mixed': {\n",
    "        '.': os.path.join(base_folder, 'esca_dataset_mixed'),\n",
    "        'train': {\n",
    "            '.': os.path.join(base_folder, 'esca_dataset_mixed', 'train'),\n",
    "            'esca':    os.path.join(base_folder, 'esca_dataset_mixed', 'train', 'esca'),\n",
    "            'healthy': os.path.join(base_folder, 'esca_dataset_mixed', 'train', 'healthy')\n",
    "        },\n",
    "        'test': {\n",
    "            '.': os.path.join(base_folder, 'esca_dataset_mixed', 'test'),\n",
    "            'esca':    os.path.join(base_folder, 'esca_dataset_mixed', 'test', 'esca'),\n",
    "            'healthy': os.path.join(base_folder, 'esca_dataset_mixed', 'test', 'healthy')\n",
    "        },\n",
    "        'validation': {\n",
    "            '.': os.path.join(base_folder, 'esca_dataset_mixed', 'validation'),\n",
    "            'esca': os.path.join(base_folder, 'esca_dataset_mixed', 'validation', 'esca'),\n",
    "            'healthy': os.path.join(base_folder, 'esca_dataset_mixed', 'validation', 'healthy')\n",
    "        }\n",
    "    }\n",
    "}\n",
    "\n",
    "# Serializing json\n",
    "json_object = json.dumps(data_folders, indent = 4)\n",
    "print(json_object)"
   ],
   "metadata": {
    "id": "cbG0PK0kl8KY",
    "colab": {
     "base_uri": "https://localhost:8080/"
    },
    "outputId": "c7e447e8-403d-4e13-b5c3-fcdf9ab9ed6e",
    "ExecuteTime": {
     "end_time": "2024-02-19T22:51:18.098770Z",
     "start_time": "2024-02-19T22:51:18.096049Z"
    }
   },
   "execution_count": 5,
   "outputs": [
    {
     "name": "stdout",
     "output_type": "stream",
     "text": [
      "{\n",
      "    \".\": \".\",\n",
      "    \"esca_dataset\": {\n",
      "        \".\": \"./esca_dataset\",\n",
      "        \"train\": {\n",
      "            \".\": \"./esca_dataset/train\",\n",
      "            \"esca\": \"./esca_dataset/train/esca\",\n",
      "            \"healthy\": \"./esca_dataset/train/healthy\"\n",
      "        },\n",
      "        \"test\": {\n",
      "            \".\": \"./esca_dataset/test\",\n",
      "            \"esca\": \"./esca_dataset/test/esca\",\n",
      "            \"healthy\": \"./esca_dataset/test/healthy\"\n",
      "        },\n",
      "        \"validation\": {\n",
      "            \".\": \"./esca_dataset/validation\",\n",
      "            \"esca\": \"./esca_dataset/validation/esca\",\n",
      "            \"healthy\": \"./esca_dataset/validation/healthy\"\n",
      "        }\n",
      "    },\n",
      "    \"esca_dataset_swapped_bg\": {\n",
      "        \".\": \"./esca_dataset_swapped_bg\",\n",
      "        \"train\": {\n",
      "            \".\": \"./esca_dataset_swapped_bg/train\",\n",
      "            \"esca\": \"./esca_dataset_swapped_bg/train/esca\",\n",
      "            \"healthy\": \"./esca_dataset_swapped_bg/train/healthy\"\n",
      "        },\n",
      "        \"test\": {\n",
      "            \".\": \"./esca_dataset_swapped_bg/test\",\n",
      "            \"esca\": \"./esca_dataset_swapped_bg/test/esca\",\n",
      "            \"healthy\": \"./esca_dataset_swapped_bg/test/healthy\"\n",
      "        },\n",
      "        \"validation\": {\n",
      "            \".\": \"./esca_dataset_swapped_bg/validation\",\n",
      "            \"esca\": \"./esca_dataset_swapped_bg/validation/esca\",\n",
      "            \"healthy\": \"./esca_dataset_swapped_bg/validation/healthy\"\n",
      "        }\n",
      "    },\n",
      "    \"esca_dataset_mixed\": {\n",
      "        \".\": \"./esca_dataset_mixed\",\n",
      "        \"train\": {\n",
      "            \".\": \"./esca_dataset_mixed/train\",\n",
      "            \"esca\": \"./esca_dataset_mixed/train/esca\",\n",
      "            \"healthy\": \"./esca_dataset_mixed/train/healthy\"\n",
      "        },\n",
      "        \"test\": {\n",
      "            \".\": \"./esca_dataset_mixed/test\",\n",
      "            \"esca\": \"./esca_dataset_mixed/test/esca\",\n",
      "            \"healthy\": \"./esca_dataset_mixed/test/healthy\"\n",
      "        },\n",
      "        \"validation\": {\n",
      "            \".\": \"./esca_dataset_mixed/validation\",\n",
      "            \"esca\": \"./esca_dataset_mixed/validation/esca\",\n",
      "            \"healthy\": \"./esca_dataset_mixed/validation/healthy\"\n",
      "        }\n",
      "    }\n",
      "}\n"
     ]
    }
   ]
  },
  {
   "cell_type": "code",
   "source": [
    "!python --version"
   ],
   "metadata": {
    "colab": {
     "base_uri": "https://localhost:8080/"
    },
    "id": "RPI9SMBs8PS3",
    "outputId": "b067dbbb-4336-4233-f382-c40413defc7e",
    "ExecuteTime": {
     "end_time": "2024-01-30T09:24:46.612854Z",
     "start_time": "2024-01-30T09:24:46.465475Z"
    }
   },
   "execution_count": 5,
   "outputs": [
    {
     "name": "stdout",
     "output_type": "stream",
     "text": [
      "Python 3.10.8\r\n"
     ]
    }
   ]
  },
  {
   "cell_type": "markdown",
   "metadata": {
    "id": "_fl5KElQfP2r"
   },
   "source": [
    "**FUNCTIONS**"
   ]
  },
  {
   "cell_type": "code",
   "execution_count": 6,
   "outputs": [],
   "source": [
    "def count_images(folder_path):\n",
    "    total_files = 0\n",
    "    if os.path.exists(folder_path) and os.path.isdir(folder_path):\n",
    "        for foldername, subfolders, filenames in os.walk(folder_path):\n",
    "            for filename in filenames:\n",
    "                file_path = os.path.join(foldername, filename)\n",
    "                if os.path.isfile(file_path) and (file_path.endswith('.jpg') or file_path.endswith('.jpeg') or file_path.endswith('.JPG') or file_path.endswith('.JPEG')):\n",
    "                    total_files += 1\n",
    "    return total_files"
   ],
   "metadata": {
    "collapsed": false,
    "ExecuteTime": {
     "end_time": "2024-02-19T22:51:21.318591Z",
     "start_time": "2024-02-19T22:51:21.312687Z"
    }
   }
  },
  {
   "cell_type": "code",
   "execution_count": 7,
   "outputs": [
    {
     "name": "stdout",
     "output_type": "stream",
     "text": [
      "{\n",
      "    \"esca_dataset\": {\n",
      "        \"train\": {\n",
      "            \"esca\": 8680,\n",
      "            \"healthy\": 8638\n",
      "        },\n",
      "        \"test\": {\n",
      "            \"esca\": 134,\n",
      "            \"healthy\": 133\n",
      "        },\n",
      "        \"validation\": {\n",
      "            \"esca\": 134,\n",
      "            \"healthy\": 132\n",
      "        }\n",
      "    },\n",
      "    \"esca_dataset_swapped_bg\": {\n",
      "        \"train\": {\n",
      "            \"esca\": 8638,\n",
      "            \"healthy\": 8694\n",
      "        },\n",
      "        \"test\": {\n",
      "            \"esca\": 133,\n",
      "            \"healthy\": 134\n",
      "        },\n",
      "        \"validation\": {\n",
      "            \"esca\": 132,\n",
      "            \"healthy\": 133\n",
      "        }\n",
      "    },\n",
      "    \"esca_dataset_mixed\": {\n",
      "        \"train\": {\n",
      "            \"esca\": 17318,\n",
      "            \"healthy\": 17332\n",
      "        },\n",
      "        \"test\": {\n",
      "            \"esca\": 267,\n",
      "            \"healthy\": 267\n",
      "        },\n",
      "        \"validation\": {\n",
      "            \"esca\": 266,\n",
      "            \"healthy\": 265\n",
      "        }\n",
      "    }\n",
      "}\n"
     ]
    }
   ],
   "source": [
    "data_folders_info = {\n",
    "    'esca_dataset': {\n",
    "        'train': {\n",
    "            'esca':    count_images(data_folders['esca_dataset']['train']['esca']),\n",
    "            'healthy': count_images(data_folders['esca_dataset']['train']['healthy'])\n",
    "        },\n",
    "        'test': {\n",
    "            'esca':    count_images(data_folders['esca_dataset']['test']['esca']),\n",
    "            'healthy': count_images(data_folders['esca_dataset']['test']['healthy'])\n",
    "        },\n",
    "        'validation': {\n",
    "            'esca':    count_images(data_folders['esca_dataset']['validation']['esca']),\n",
    "            'healthy': count_images(data_folders['esca_dataset']['validation']['healthy'])\n",
    "        }\n",
    "    },\n",
    "    'esca_dataset_swapped_bg': {\n",
    "        'train': {\n",
    "            'esca':    count_images(data_folders['esca_dataset_swapped_bg']['train']['esca']),\n",
    "            'healthy': count_images(data_folders['esca_dataset_swapped_bg']['train']['healthy'])\n",
    "        },\n",
    "        'test': {\n",
    "            'esca':    count_images(data_folders['esca_dataset_swapped_bg']['test']['esca']),\n",
    "            'healthy': count_images(data_folders['esca_dataset_swapped_bg']['test']['healthy'])\n",
    "        },\n",
    "        'validation': {\n",
    "            'esca':    count_images(data_folders['esca_dataset_swapped_bg']['validation']['esca']),\n",
    "            'healthy': count_images(data_folders['esca_dataset_swapped_bg']['validation']['healthy'])\n",
    "        }\n",
    "    },\n",
    "    'esca_dataset_mixed': {\n",
    "        'train': {\n",
    "            'esca':    count_images(data_folders['esca_dataset_mixed']['train']['esca']),\n",
    "            'healthy': count_images(data_folders['esca_dataset_mixed']['train']['healthy'])\n",
    "        },\n",
    "        'test': {\n",
    "            'esca':    count_images(data_folders['esca_dataset_mixed']['test']['esca']),\n",
    "            'healthy': count_images(data_folders['esca_dataset_mixed']['test']['healthy'])\n",
    "        },\n",
    "        'validation': {\n",
    "            'esca':    count_images(data_folders['esca_dataset_mixed']['validation']['esca']),\n",
    "            'healthy': count_images(data_folders['esca_dataset_mixed']['validation']['healthy'])\n",
    "        }\n",
    "    }\n",
    "}\n",
    "\n",
    "# Serializing json\n",
    "json_object = json.dumps(data_folders_info, indent = 4)\n",
    "print(json_object)"
   ],
   "metadata": {
    "collapsed": false,
    "ExecuteTime": {
     "end_time": "2024-02-19T22:51:33.011668Z",
     "start_time": "2024-02-19T22:51:23.812894Z"
    }
   }
  },
  {
   "cell_type": "markdown",
   "source": [
    "**EXECUTE THE FOLLOWING CELL TO LOAD BOTH THE ORIGINAL AND THE RETRAINED MODEL**"
   ],
   "metadata": {
    "id": "YZtvGQjeDTDk"
   }
  },
  {
   "cell_type": "code",
   "source": [
    "MODELS_PATH = '.'\n",
    "models_list = [\n",
    "    {\n",
    "        'model': load_model(os.path.join(MODELS_PATH, 'CNN_Esca_model.keras')),\n",
    "        'description': 'Original model'\n",
    "    },\n",
    "    {\n",
    "        'model': load_model(os.path.join(MODELS_PATH, 'CNN_Esca_model_retrained.keras')),\n",
    "        'description': 'Retrained model'\n",
    "    }\n",
    "]"
   ],
   "metadata": {
    "colab": {
     "base_uri": "https://localhost:8080/"
    },
    "id": "j8k4BkMjDO5D",
    "outputId": "9f84d21c-9a66-4383-c4eb-37a10a23a004",
    "ExecuteTime": {
     "end_time": "2024-02-19T22:51:35.807487Z",
     "start_time": "2024-02-19T22:51:34.605938Z"
    }
   },
   "execution_count": 8,
   "outputs": [
    {
     "name": "stderr",
     "output_type": "stream",
     "text": [
      "WARNING:absl:At this time, the v2.11+ optimizer `tf.keras.optimizers.Adadelta` runs slowly on M1/M2 Macs, please use the legacy Keras optimizer instead, located at `tf.keras.optimizers.legacy.Adadelta`.\n",
      "WARNING:absl:At this time, the v2.11+ optimizer `tf.keras.optimizers.Adadelta` runs slowly on M1/M2 Macs, please use the legacy Keras optimizer instead, located at `tf.keras.optimizers.legacy.Adadelta`.\n"
     ]
    }
   ]
  },
  {
   "cell_type": "markdown",
   "source": [
    "**LOAD TEST SETS TO PERFORM MODEL EVALUATION**"
   ],
   "metadata": {
    "id": "X_gRGwjqJ6Dt"
   }
  },
  {
   "cell_type": "code",
   "execution_count": 9,
   "metadata": {
    "id": "VThVW5YYwiSz",
    "colab": {
     "base_uri": "https://localhost:8080/"
    },
    "outputId": "09f03677-88e3-4509-ceec-53c048d50dfd",
    "ExecuteTime": {
     "end_time": "2024-02-19T22:52:24.331153Z",
     "start_time": "2024-02-19T22:52:02.706419Z"
    }
   },
   "outputs": [
    {
     "name": "stdout",
     "output_type": "stream",
     "text": [
      "Found 267 files belonging to 2 classes.\n",
      "-----------------------------------------------\n",
      "Original model on esca_dataset/test\n",
      "267/267 [==============================] - 4s 14ms/step - loss: 0.0520 - accuracy: 0.9888\n",
      "Test loss: 0.05201272293925285\n",
      "Test accuracy: 0.9887640476226807\n",
      "Average image inference time 15.02 msec\n",
      "Found 267 files belonging to 2 classes.\n",
      "-----------------------------------------------\n",
      "Original model on esca_dataset_swapped_bg/test\n",
      "267/267 [==============================] - 3s 9ms/step - loss: 1.9354 - accuracy: 0.8240\n",
      "Test loss: 1.9353731870651245\n",
      "Test accuracy: 0.8239700198173523\n",
      "Average image inference time 9.66 msec\n",
      "Found 534 files belonging to 2 classes.\n",
      "-----------------------------------------------\n",
      "Original model on esca_dataset_mixed/test\n",
      "534/534 [==============================] - 4s 8ms/step - loss: 0.9937 - accuracy: 0.9064\n",
      "Test loss: 0.993692934513092\n",
      "Test accuracy: 0.9063670635223389\n",
      "Average image inference time 8.27 msec\n",
      "Found 267 files belonging to 2 classes.\n",
      "-----------------------------------------------\n",
      "Retrained model on esca_dataset/test\n",
      "267/267 [==============================] - 3s 12ms/step - loss: 0.0355 - accuracy: 0.9963\n",
      "Test loss: 0.03546781837940216\n",
      "Test accuracy: 0.9962546825408936\n",
      "Average image inference time 12.46 msec\n",
      "Found 267 files belonging to 2 classes.\n",
      "-----------------------------------------------\n",
      "Retrained model on esca_dataset_swapped_bg/test\n",
      "267/267 [==============================] - 2s 8ms/step - loss: 0.0768 - accuracy: 0.9850\n",
      "Test loss: 0.07683289796113968\n",
      "Test accuracy: 0.9850187301635742\n",
      "Average image inference time 8.32 msec\n",
      "Found 534 files belonging to 2 classes.\n",
      "-----------------------------------------------\n",
      "Retrained model on esca_dataset_mixed/test\n",
      "534/534 [==============================] - 4s 8ms/step - loss: 0.0562 - accuracy: 0.9906\n",
      "Test loss: 0.05615036189556122\n",
      "Test accuracy: 0.9906367063522339\n",
      "Average image inference time 8.21 msec\n"
     ]
    }
   ],
   "source": [
    "img_width, img_height = 128, 128\n",
    "########################################################\n",
    "dataset_names = ['esca_dataset', 'esca_dataset_swapped_bg', 'esca_dataset_mixed']\n",
    "########################################################\n",
    "# looping through pairs of models and evaluation data\n",
    "for model_record, dataset_name in itertools.product(models_list, dataset_names):\n",
    "    evaluation_dataset = image_dataset_from_directory(data_folders[dataset_name]['test']['.'],\n",
    "                                            labels='inferred',\n",
    "                                            shuffle=False,\n",
    "                                            color_mode='rgb',\n",
    "                                            batch_size=1,\n",
    "                                            image_size=(img_width, img_height),\n",
    "                                            label_mode='categorical')\n",
    "    evaluation_dataset = evaluation_dataset.map(lambda images, labels: ((images/255.0), labels))\n",
    "    print('-----------------------------------------------')\n",
    "    print(f\"{model_record['description']} on {dataset_name}/test\")\n",
    "    start = time.time()\n",
    "    evaluate = model_record['model'].evaluate(evaluation_dataset)\n",
    "    elapsed_time = time.time() - start\n",
    "    print('Test loss:',     evaluate[0])\n",
    "    print('Test accuracy:', evaluate[1])\n",
    "    print('Average image inference time %.2f msec\\n'%(1000*(elapsed_time/len(evaluation_dataset))))"
   ]
  },
  {
   "cell_type": "code",
   "execution_count": 10,
   "metadata": {
    "id": "VOX9-G3_fPDZ",
    "ExecuteTime": {
     "end_time": "2024-02-19T22:52:27.264156Z",
     "start_time": "2024-02-19T22:52:27.259843Z"
    }
   },
   "outputs": [],
   "source": [
    "# **************          matrix_confusion         ***************\n",
    "\n",
    "# Mette a confronto due liste:  una contenente le labels originali delle immagini di test,\n",
    "#                               l'altra contenente le labels predette dalla CNN.\n",
    "\n",
    "# Parameters:\n",
    "#                - original :           lista contenente le labels originali delle immagini\n",
    "#                - model:               lista contenente le labels predette\n",
    "#                - n_class :            numero di classi\n",
    "#                - nb_test_samples :    numero di immagini di test\n",
    "\n",
    "# Return:\n",
    "#               - confusion_matrix :    matrice di confusione.\n",
    "\n",
    "def matrix_confusion(original, model, n_class, nb_test_samples):\n",
    "\n",
    "    # creo una matrice di zeri, di dimensioni corrispondenti al numero di classi\n",
    "    confusion_matrix = np.zeros((n_class,n_class))\n",
    "\n",
    "\n",
    "    # confronto le due liste contenenti le label vere e quelle predette.\n",
    "    l = len(original)\n",
    "    k=0\n",
    "    while k<l:\n",
    "        confusion_matrix[original[k]][model[k]] += 1\n",
    "        k+=1\n",
    "\n",
    "    print('matrice di confusione \\n', confusion_matrix)\n",
    "    print('\\n')\n",
    "\n",
    "    # calcolo l'accuratezza delle predizioni\n",
    "\n",
    "    correct_predictions = sum(confusion_matrix[i][i] for i in range(n_class))\n",
    "\n",
    "    total_prediction = nb_test_samples\n",
    "\n",
    "    accuracy = correct_predictions/total_prediction\n",
    "\n",
    "    print('ACCURACY... : ' , round(accuracy*100, 2), '%')\n",
    "    print('\\n')\n",
    "    return confusion_matrix\n",
    "\n",
    "def plot_confusion_matrix(cm, classes,\n",
    "                          normalize=False,\n",
    "                          title='Confusion matrix',\n",
    "                          cmap=plt.cm.Blues):\n",
    "    \"\"\"\n",
    "    This function prints and plots the confusion matrix.\n",
    "    Normalization can be applied by setting `normalize=True`.\n",
    "    \"\"\"\n",
    "    if normalize:\n",
    "        cm = cm.astype('float') / cm.sum(axis=1)[:, np.newaxis]\n",
    "        print(\"Normalized confusion matrix\")\n",
    "    else:\n",
    "        print('Confusion matrix, without normalization')\n",
    "\n",
    "    print(cm)\n",
    "\n",
    "    plt.imshow(cm, interpolation='nearest', cmap=cmap)\n",
    "    plt.title(title)\n",
    "    plt.colorbar()\n",
    "    tick_marks = np.arange(len(classes))\n",
    "    plt.xticks(tick_marks, classes, rotation=45)\n",
    "    plt.yticks(tick_marks, classes)\n",
    "\n",
    "    fmt = '.2f' if normalize else 'd'\n",
    "    thresh = cm.max() / 2.\n",
    "    for i, j in itertools.product(range(cm.shape[0]), range(cm.shape[1])):\n",
    "        plt.text(j, i, format(cm[i, j], fmt),\n",
    "                 horizontalalignment=\"center\",\n",
    "                 color=\"white\" if cm[i, j] > thresh else \"black\")\n",
    "\n",
    "    plt.ylabel('True label')\n",
    "    plt.xlabel('Predicted label')\n",
    "    plt.tight_layout()\n",
    "    \n"
   ]
  },
  {
   "cell_type": "markdown",
   "metadata": {
    "id": "S25TpSSUwcPK"
   },
   "source": [
    "**EVALUATE ALL TWO MODELS ON ALL THREE TEST SETS**"
   ]
  },
  {
   "cell_type": "code",
   "source": [
    "########################################################\n",
    "dataset_names = ['esca_dataset', 'esca_dataset_swapped_bg', 'esca_dataset_mixed']\n",
    "########################################################\n",
    "n_class = 2\n",
    "for model_record, dataset_name in itertools.product(models_list, dataset_names):\n",
    "    test_dataset = image_dataset_from_directory(data_folders[dataset_name]['test']['.'],\n",
    "        labels='inferred',\n",
    "        shuffle=False,\n",
    "        color_mode='rgb',\n",
    "        batch_size=1,\n",
    "        image_size=(img_width, img_height),\n",
    "        label_mode='int')\n",
    "    print('-----------------------------------------------')\n",
    "    print(f\"{model_record['description']} on {dataset_name}/test\")\n",
    "    test_images = test_dataset.map(lambda images, labels: (images/255.0))\n",
    "    test_labels = test_dataset.map(lambda images, labels: labels)\n",
    "    test_labels = test_labels.flat_map(lambda x: tf.data.Dataset.from_tensor_slices(x))\n",
    "    test_labels_orig = list(test_labels.as_numpy_iterator())\n",
    "    start = time.time()\n",
    "    predictions = model_record['model'].predict(test_images)\n",
    "    end = time.time()\n",
    "    elapsed_time = end - start\n",
    "    print(\"predictions shape: \", predictions.shape)\n",
    "    print(\"predictions : \", predictions[0])\n",
    "    # result of predictions\n",
    "    pred_labels = [np.argmax(x) for x in predictions]\n",
    "    # matrix confusion  ----------------------------------------\n",
    "    matrix = matrix_confusion(test_labels_orig, pred_labels, n_class, len(test_dataset))\n",
    "    print('Average image inference time %.2f msec\\n'%(1000*(elapsed_time/len(test_dataset))))    \n",
    "    # Compute confusion matrix\n",
    "    cnf_matrix = confusion_matrix(test_labels_orig, pred_labels)\n",
    "    np.set_printoptions(precision=2)\n",
    "    \n",
    "    # Plot non-normalized confusion matrix\n",
    "    plt.figure()\n",
    "    plot_confusion_matrix(cnf_matrix, classes=['esca', 'healthy'],\n",
    "                          title='Confusion matrix')\n",
    "    \n",
    "    plt.show()"
   ],
   "metadata": {
    "colab": {
     "base_uri": "https://localhost:8080/"
    },
    "id": "Fn4iPUbPPHXl",
    "outputId": "e0a5cf9d-417f-450b-dd59-8d4fea5da55a",
    "ExecuteTime": {
     "end_time": "2024-02-19T22:53:01.519219Z",
     "start_time": "2024-02-19T22:52:31.616217Z"
    }
   },
   "execution_count": 11,
   "outputs": [
    {
     "name": "stdout",
     "output_type": "stream",
     "text": [
      "Found 267 files belonging to 2 classes.\n",
      "-----------------------------------------------\n",
      "Original model on esca_dataset/test\n",
      "267/267 [==============================] - 1s 3ms/step\n",
      "predictions shape:  (267, 2)\n",
      "predictions :  [9.9999976e-01 2.5680032e-07]\n",
      "matrice di confusione \n",
      " [[133.   1.]\n",
      " [  2. 131.]]\n",
      "\n",
      "\n",
      "ACCURACY... :  98.88 %\n",
      "\n",
      "\n",
      "Average image inference time 3.47 msec\n",
      "\n",
      "Confusion matrix, without normalization\n",
      "[[133   1]\n",
      " [  2 131]]\n"
     ]
    },
    {
     "data": {
      "text/plain": "<Figure size 640x480 with 2 Axes>",
      "image/png": "[encoded data removed]"
     },
     "metadata": {},
     "output_type": "display_data"
    },
    {
     "name": "stdout",
     "output_type": "stream",
     "text": [
      "Found 267 files belonging to 2 classes.\n",
      "-----------------------------------------------\n",
      "Original model on esca_dataset_swapped_bg/test\n",
      "267/267 [==============================] - 1s 3ms/step\n",
      "predictions shape:  (267, 2)\n",
      "predictions :  [1.00e+00 4.17e-12]\n",
      "matrice di confusione \n",
      " [[119.  14.]\n",
      " [ 33. 101.]]\n",
      "\n",
      "\n",
      "ACCURACY... :  82.4 %\n",
      "\n",
      "\n",
      "Average image inference time 3.11 msec\n",
      "\n",
      "Confusion matrix, without normalization\n",
      "[[119  14]\n",
      " [ 33 101]]\n"
     ]
    },
    {
     "data": {
      "text/plain": "<Figure size 640x480 with 2 Axes>",
      "image/png": "[encoded data removed]"
     },
     "metadata": {},
     "output_type": "display_data"
    },
    {
     "name": "stdout",
     "output_type": "stream",
     "text": [
      "Found 534 files belonging to 2 classes.\n",
      "-----------------------------------------------\n",
      "Original model on esca_dataset_mixed/test\n",
      "534/534 [==============================] - 2s 3ms/step\n",
      "predictions shape:  (534, 2)\n",
      "predictions :  [1.00e+00 2.57e-07]\n",
      "matrice di confusione \n",
      " [[252.  15.]\n",
      " [ 35. 232.]]\n",
      "\n",
      "\n",
      "ACCURACY... :  90.64 %\n",
      "\n",
      "\n",
      "Average image inference time 3.27 msec\n",
      "\n",
      "Confusion matrix, without normalization\n",
      "[[252  15]\n",
      " [ 35 232]]\n"
     ]
    },
    {
     "data": {
      "text/plain": "<Figure size 640x480 with 2 Axes>",
      "image/png": "[encoded data removed]"
     },
     "metadata": {},
     "output_type": "display_data"
    },
    {
     "name": "stdout",
     "output_type": "stream",
     "text": [
      "Found 267 files belonging to 2 classes.\n",
      "-----------------------------------------------\n",
      "Retrained model on esca_dataset/test\n",
      "267/267 [==============================] - 1s 3ms/step\n",
      "predictions shape:  (267, 2)\n",
      "predictions :  [1.00e+00 3.31e-17]\n",
      "matrice di confusione \n",
      " [[133.   1.]\n",
      " [  0. 133.]]\n",
      "\n",
      "\n",
      "ACCURACY... :  99.63 %\n",
      "\n",
      "\n",
      "Average image inference time 3.52 msec\n",
      "\n",
      "Confusion matrix, without normalization\n",
      "[[133   1]\n",
      " [  0 133]]\n"
     ]
    },
    {
     "data": {
      "text/plain": "<Figure size 640x480 with 2 Axes>",
      "image/png": "[encoded data removed]"
     },
     "metadata": {},
     "output_type": "display_data"
    },
    {
     "name": "stdout",
     "output_type": "stream",
     "text": [
      "Found 267 files belonging to 2 classes.\n",
      "-----------------------------------------------\n",
      "Retrained model on esca_dataset_swapped_bg/test\n",
      "267/267 [==============================] - 1s 3ms/step\n",
      "predictions shape:  (267, 2)\n",
      "predictions :  [1.00e+00 5.21e-15]\n",
      "matrice di confusione \n",
      " [[132.   1.]\n",
      " [  3. 131.]]\n",
      "\n",
      "\n",
      "ACCURACY... :  98.5 %\n",
      "\n",
      "\n",
      "Average image inference time 3.30 msec\n",
      "\n",
      "Confusion matrix, without normalization\n",
      "[[132   1]\n",
      " [  3 131]]\n"
     ]
    },
    {
     "data": {
      "text/plain": "<Figure size 640x480 with 2 Axes>",
      "image/png": "[encoded data removed]"
     },
     "metadata": {},
     "output_type": "display_data"
    },
    {
     "name": "stdout",
     "output_type": "stream",
     "text": [
      "Found 534 files belonging to 2 classes.\n",
      "-----------------------------------------------\n",
      "Retrained model on esca_dataset_mixed/test\n",
      "534/534 [==============================] - 2s 4ms/step\n",
      "predictions shape:  (534, 2)\n",
      "predictions :  [1.00e+00 3.31e-17]\n",
      "matrice di confusione \n",
      " [[265.   2.]\n",
      " [  3. 264.]]\n",
      "\n",
      "\n",
      "ACCURACY... :  99.06 %\n",
      "\n",
      "\n",
      "Average image inference time 3.78 msec\n",
      "\n",
      "Confusion matrix, without normalization\n",
      "[[265   2]\n",
      " [  3 264]]\n"
     ]
    },
    {
     "data": {
      "text/plain": "<Figure size 640x480 with 2 Axes>",
      "image/png": "[encoded data removed]"
     },
     "metadata": {},
     "output_type": "display_data"
    }
   ]
  },
  {
   "cell_type": "code",
   "execution_count": null,
   "outputs": [],
   "source": [],
   "metadata": {
    "collapsed": false
   }
  }
 ],
 "metadata": {
  "colab": {
   "provenance": []
  },
  "kernelspec": {
   "name": "python3",
   "language": "python",
   "display_name": "Python 3 (ipykernel)"
  },
  "accelerator": "TPU"
 },
 "nbformat": 4,
 "nbformat_minor": 0
}
