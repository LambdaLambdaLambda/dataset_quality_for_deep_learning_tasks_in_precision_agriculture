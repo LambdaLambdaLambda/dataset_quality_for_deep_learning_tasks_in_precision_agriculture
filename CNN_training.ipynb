{
 "cells": [
  {
   "cell_type": "markdown",
   "metadata": {
    "id": "SQ-2kq0t8I9V"
   },
   "source": [
    "**LIBRARIES**"
   ]
  },
  {
   "cell_type": "code",
   "execution_count": null,
   "metadata": {
    "id": "J8nTomm11Cj0",
    "colab": {
     "base_uri": "https://localhost:8080/"
    },
    "outputId": "b6e00a99-2aba-4da0-bc47-9355fdac8d43"
   },
   "outputs": [],
   "source": [
    "!pip install --upgrade pip\n",
    "!pip install matplotlib\n",
    "!pip install tensorflow\n",
    "!pip install keras\n",
    "!pip install visualkeras\n",
    "!pip install tf-keras-vis"
   ]
  },
  {
   "cell_type": "code",
   "source": [
    "import numpy as np\n",
    "import os\n",
    "import matplotlib.pyplot as plt\n",
    "import time\n",
    "import shutil\n",
    "import random\n",
    "import itertools\n",
    "import pprint\n",
    "import json\n",
    "from enum import Enum"
   ],
   "metadata": {
    "id": "KpMx5ukRhuoW",
    "ExecuteTime": {
     "end_time": "2024-02-19T16:44:20.749730Z",
     "start_time": "2024-02-19T16:44:20.394307Z"
    }
   },
   "execution_count": 1,
   "outputs": []
  },
  {
   "cell_type": "code",
   "execution_count": 2,
   "metadata": {
    "id": "jvB-dCc370eL",
    "colab": {
     "base_uri": "https://localhost:8080/"
    },
    "outputId": "6bc2a5a6-28af-47db-ae15-04a6195575ea",
    "ExecuteTime": {
     "end_time": "2024-02-19T16:44:25.276795Z",
     "start_time": "2024-02-19T16:44:22.790505Z"
    }
   },
   "outputs": [
    {
     "name": "stdout",
     "output_type": "stream",
     "text": [
      "2.15.0\n"
     ]
    }
   ],
   "source": [
    "import tensorflow as tf\n",
    "from tensorflow import keras\n",
    "from tensorflow.keras.models import load_model, Sequential\n",
    "from tensorflow.keras.layers import Conv2D, MaxPooling2D, Activation, Dropout, Flatten, Dense\n",
    "from tensorflow.keras.preprocessing import image_dataset_from_directory\n",
    "import visualkeras\n",
    "from tf_keras_vis.saliency import Saliency\n",
    "from tf_keras_vis.utils import normalize\n",
    "from tf_keras_vis.utils.scores import CategoricalScore\n",
    "print(tf.__version__)"
   ]
  },
  {
   "cell_type": "code",
   "execution_count": null,
   "outputs": [],
   "source": [
    "from google.colab import drive\n",
    "drive.mount('/content/drive')"
   ],
   "metadata": {
    "collapsed": false
   }
  },
  {
   "cell_type": "code",
   "execution_count": 7,
   "outputs": [],
   "source": [
    "current_directory = os.getcwd()\n",
    "base_dir = os.path.dirname(os.path.abspath('__file__'))\n",
    "os.chdir(base_dir)"
   ],
   "metadata": {
    "collapsed": false,
    "ExecuteTime": {
     "end_time": "2024-02-19T16:55:15.365178Z",
     "start_time": "2024-02-19T16:55:15.358960Z"
    }
   }
  },
  {
   "cell_type": "markdown",
   "metadata": {
    "id": "FOWqouITcRnT"
   },
   "source": [
    "# **DATA SOURCES**"
   ]
  },
  {
   "cell_type": "code",
   "source": [
    "base_folder = '.'\n",
    "# adjust the variable base_folder to whatever directory will contain esca_dataset and esca_dataset_swapped_bg\n",
    "\n",
    "data_folders = {\n",
    "    '.': base_folder,\n",
    "    'esca_dataset': {\n",
    "        '.': os.path.join(base_folder, 'esca_dataset'),\n",
    "        'train': {\n",
    "            '.': os.path.join(base_folder, 'esca_dataset', 'train'),\n",
    "            'esca': os.path.join(base_folder, 'esca_dataset', 'train', 'esca'),\n",
    "            'healthy': os.path.join(base_folder, 'esca_dataset', 'train', 'healthy')\n",
    "        },\n",
    "        'test': {\n",
    "            '.': os.path.join(base_folder, 'esca_dataset', 'test'),\n",
    "            'esca':    os.path.join(base_folder, 'esca_dataset', 'test', 'esca'),\n",
    "            'healthy': os.path.join(base_folder, 'esca_dataset', 'test', 'healthy')\n",
    "        },\n",
    "        'validation': {\n",
    "            '.': os.path.join(base_folder, 'esca_dataset', 'validation'),\n",
    "            'esca':    os.path.join(base_folder, 'esca_dataset', 'validation', 'esca'),\n",
    "            'healthy': os.path.join(base_folder, 'esca_dataset', 'validation', 'healthy')\n",
    "        }\n",
    "    },\n",
    "    'esca_dataset_swapped_bg': {\n",
    "        '.': os.path.join(base_folder, 'esca_dataset_swapped_bg'),\n",
    "        'train': {\n",
    "            '.': os.path.join(base_folder, 'esca_dataset_swapped_bg', 'train'),\n",
    "            'esca':    os.path.join(base_folder, 'esca_dataset_swapped_bg', 'train', 'esca'),\n",
    "            'healthy': os.path.join(base_folder, 'esca_dataset_swapped_bg', 'train', 'healthy')\n",
    "        },\n",
    "        'test': {\n",
    "            '.': os.path.join(base_folder, 'esca_dataset_swapped_bg', 'test'),\n",
    "            'esca':    os.path.join(base_folder, 'esca_dataset_swapped_bg', 'test', 'esca'),\n",
    "            'healthy': os.path.join(base_folder, 'esca_dataset_swapped_bg', 'test', 'healthy')\n",
    "        },\n",
    "        'validation': {\n",
    "            '.': os.path.join(base_folder, 'esca_dataset_swapped_bg', 'validation'),\n",
    "            'esca': os.path.join(base_folder, 'esca_dataset_swapped_bg', 'validation', 'esca'),\n",
    "            'healthy': os.path.join(base_folder, 'esca_dataset_swapped_bg', 'validation', 'healthy')\n",
    "        }\n",
    "    },\n",
    "    'esca_dataset_mixed': {\n",
    "        '.': os.path.join(base_folder, 'esca_dataset_mixed'),\n",
    "        'train': {\n",
    "            '.': os.path.join(base_folder, 'esca_dataset_mixed', 'train'),\n",
    "            'esca':    os.path.join(base_folder, 'esca_dataset_mixed', 'train', 'esca'),\n",
    "            'healthy': os.path.join(base_folder, 'esca_dataset_mixed', 'train', 'healthy')\n",
    "        },\n",
    "        'test': {\n",
    "            '.': os.path.join(base_folder, 'esca_dataset_mixed', 'test'),\n",
    "            'esca':    os.path.join(base_folder, 'esca_dataset_mixed', 'test', 'esca'),\n",
    "            'healthy': os.path.join(base_folder, 'esca_dataset_mixed', 'test', 'healthy')\n",
    "        },\n",
    "        'validation': {\n",
    "            '.': os.path.join(base_folder, 'esca_dataset_mixed', 'validation'),\n",
    "            'esca': os.path.join(base_folder, 'esca_dataset_mixed', 'validation', 'esca'),\n",
    "            'healthy': os.path.join(base_folder, 'esca_dataset_mixed', 'validation', 'healthy')\n",
    "        }\n",
    "    }\n",
    "}\n",
    "\n",
    "# Serializing json\n",
    "json_object = json.dumps(data_folders, indent = 4)\n",
    "print(json_object)"
   ],
   "metadata": {
    "id": "cbG0PK0kl8KY",
    "colab": {
     "base_uri": "https://localhost:8080/"
    },
    "outputId": "c7e447e8-403d-4e13-b5c3-fcdf9ab9ed6e",
    "ExecuteTime": {
     "end_time": "2024-02-19T16:55:17.727206Z",
     "start_time": "2024-02-19T16:55:17.724839Z"
    }
   },
   "execution_count": 8,
   "outputs": [
    {
     "name": "stdout",
     "output_type": "stream",
     "text": [
      "{\n",
      "    \".\": \".\",\n",
      "    \"esca_dataset\": {\n",
      "        \".\": \"./esca_dataset\",\n",
      "        \"train\": {\n",
      "            \".\": \"./esca_dataset/train\",\n",
      "            \"esca\": \"./esca_dataset/train/esca\",\n",
      "            \"healthy\": \"./esca_dataset/train/healthy\"\n",
      "        },\n",
      "        \"test\": {\n",
      "            \".\": \"./esca_dataset/test\",\n",
      "            \"esca\": \"./esca_dataset/test/esca\",\n",
      "            \"healthy\": \"./esca_dataset/test/healthy\"\n",
      "        },\n",
      "        \"validation\": {\n",
      "            \".\": \"./esca_dataset/validation\",\n",
      "            \"esca\": \"./esca_dataset/validation/esca\",\n",
      "            \"healthy\": \"./esca_dataset/validation/healthy\"\n",
      "        }\n",
      "    },\n",
      "    \"esca_dataset_swapped_bg\": {\n",
      "        \".\": \"./esca_dataset_swapped_bg\",\n",
      "        \"train\": {\n",
      "            \".\": \"./esca_dataset_swapped_bg/train\",\n",
      "            \"esca\": \"./esca_dataset_swapped_bg/train/esca\",\n",
      "            \"healthy\": \"./esca_dataset_swapped_bg/train/healthy\"\n",
      "        },\n",
      "        \"test\": {\n",
      "            \".\": \"./esca_dataset_swapped_bg/test\",\n",
      "            \"esca\": \"./esca_dataset_swapped_bg/test/esca\",\n",
      "            \"healthy\": \"./esca_dataset_swapped_bg/test/healthy\"\n",
      "        },\n",
      "        \"validation\": {\n",
      "            \".\": \"./esca_dataset_swapped_bg/validation\",\n",
      "            \"esca\": \"./esca_dataset_swapped_bg/validation/esca\",\n",
      "            \"healthy\": \"./esca_dataset_swapped_bg/validation/healthy\"\n",
      "        }\n",
      "    },\n",
      "    \"esca_dataset_mixed\": {\n",
      "        \".\": \"./esca_dataset_mixed\",\n",
      "        \"train\": {\n",
      "            \".\": \"./esca_dataset_mixed/train\",\n",
      "            \"esca\": \"./esca_dataset_mixed/train/esca\",\n",
      "            \"healthy\": \"./esca_dataset_mixed/train/healthy\"\n",
      "        },\n",
      "        \"test\": {\n",
      "            \".\": \"./esca_dataset_mixed/test\",\n",
      "            \"esca\": \"./esca_dataset_mixed/test/esca\",\n",
      "            \"healthy\": \"./esca_dataset_mixed/test/healthy\"\n",
      "        },\n",
      "        \"validation\": {\n",
      "            \".\": \"./esca_dataset_mixed/validation\",\n",
      "            \"esca\": \"./esca_dataset_mixed/validation/esca\",\n",
      "            \"healthy\": \"./esca_dataset_mixed/validation/healthy\"\n",
      "        }\n",
      "    }\n",
      "}\n"
     ]
    }
   ]
  },
  {
   "cell_type": "code",
   "source": [
    "!python --version"
   ],
   "metadata": {
    "colab": {
     "base_uri": "https://localhost:8080/"
    },
    "id": "RPI9SMBs8PS3",
    "outputId": "b067dbbb-4336-4233-f382-c40413defc7e",
    "ExecuteTime": {
     "end_time": "2024-01-30T09:24:46.612854Z",
     "start_time": "2024-01-30T09:24:46.465475Z"
    }
   },
   "execution_count": 5,
   "outputs": [
    {
     "name": "stdout",
     "output_type": "stream",
     "text": [
      "Python 3.10.8\r\n"
     ]
    }
   ]
  },
  {
   "cell_type": "markdown",
   "metadata": {
    "id": "_fl5KElQfP2r"
   },
   "source": [
    "**FUNCTIONS**"
   ]
  },
  {
   "cell_type": "code",
   "execution_count": 9,
   "outputs": [],
   "source": [
    "def count_images(folder_path):\n",
    "    total_files = 0\n",
    "    if os.path.exists(folder_path) and os.path.isdir(folder_path):\n",
    "        for foldername, subfolders, filenames in os.walk(folder_path):\n",
    "            for filename in filenames:\n",
    "                file_path = os.path.join(foldername, filename)\n",
    "                if os.path.isfile(file_path) and (file_path.endswith('.jpg') or file_path.endswith('.jpeg') or file_path.endswith('.JPG') or file_path.endswith('.JPEG')):\n",
    "                    total_files += 1\n",
    "    return total_files"
   ],
   "metadata": {
    "collapsed": false,
    "ExecuteTime": {
     "end_time": "2024-02-19T16:55:20.821900Z",
     "start_time": "2024-02-19T16:55:20.814623Z"
    }
   }
  },
  {
   "cell_type": "code",
   "execution_count": 11,
   "outputs": [
    {
     "name": "stdout",
     "output_type": "stream",
     "text": [
      "{\n",
      "    \"esca_dataset\": {\n",
      "        \"train\": {\n",
      "            \"esca\": 8680,\n",
      "            \"healthy\": 8638\n",
      "        },\n",
      "        \"test\": {\n",
      "            \"esca\": 134,\n",
      "            \"healthy\": 133\n",
      "        },\n",
      "        \"validation\": {\n",
      "            \"esca\": 134,\n",
      "            \"healthy\": 132\n",
      "        }\n",
      "    },\n",
      "    \"esca_dataset_swapped_bg\": {\n",
      "        \"train\": {\n",
      "            \"esca\": 8638,\n",
      "            \"healthy\": 8694\n",
      "        },\n",
      "        \"test\": {\n",
      "            \"esca\": 133,\n",
      "            \"healthy\": 134\n",
      "        },\n",
      "        \"validation\": {\n",
      "            \"esca\": 132,\n",
      "            \"healthy\": 133\n",
      "        }\n",
      "    },\n",
      "    \"esca_dataset_mixed\": {\n",
      "        \"train\": {\n",
      "            \"esca\": 17318,\n",
      "            \"healthy\": 17332\n",
      "        },\n",
      "        \"test\": {\n",
      "            \"esca\": 267,\n",
      "            \"healthy\": 267\n",
      "        },\n",
      "        \"validation\": {\n",
      "            \"esca\": 266,\n",
      "            \"healthy\": 265\n",
      "        }\n",
      "    }\n",
      "}\n"
     ]
    }
   ],
   "source": [
    "data_folders_info = {\n",
    "    'esca_dataset': {\n",
    "        'train': {\n",
    "            'esca':    count_images(data_folders['esca_dataset']['train']['esca']),\n",
    "            'healthy': count_images(data_folders['esca_dataset']['train']['healthy'])\n",
    "        },\n",
    "        'test': {\n",
    "            'esca':    count_images(data_folders['esca_dataset']['test']['esca']),\n",
    "            'healthy': count_images(data_folders['esca_dataset']['test']['healthy'])\n",
    "        },\n",
    "        'validation': {\n",
    "            'esca':    count_images(data_folders['esca_dataset']['validation']['esca']),\n",
    "            'healthy': count_images(data_folders['esca_dataset']['validation']['healthy'])\n",
    "        }\n",
    "    },\n",
    "    'esca_dataset_swapped_bg': {\n",
    "        'train': {\n",
    "            'esca':    count_images(data_folders['esca_dataset_swapped_bg']['train']['esca']),\n",
    "            'healthy': count_images(data_folders['esca_dataset_swapped_bg']['train']['healthy'])\n",
    "        },\n",
    "        'test': {\n",
    "            'esca':    count_images(data_folders['esca_dataset_swapped_bg']['test']['esca']),\n",
    "            'healthy': count_images(data_folders['esca_dataset_swapped_bg']['test']['healthy'])\n",
    "        },\n",
    "        'validation': {\n",
    "            'esca':    count_images(data_folders['esca_dataset_swapped_bg']['validation']['esca']),\n",
    "            'healthy': count_images(data_folders['esca_dataset_swapped_bg']['validation']['healthy'])\n",
    "        }\n",
    "    },\n",
    "    'esca_dataset_mixed': {\n",
    "        'train': {\n",
    "            'esca':    count_images(data_folders['esca_dataset_mixed']['train']['esca']),\n",
    "            'healthy': count_images(data_folders['esca_dataset_mixed']['train']['healthy'])\n",
    "        },\n",
    "        'test': {\n",
    "            'esca':    count_images(data_folders['esca_dataset_mixed']['test']['esca']),\n",
    "            'healthy': count_images(data_folders['esca_dataset_mixed']['test']['healthy'])\n",
    "        },\n",
    "        'validation': {\n",
    "            'esca':    count_images(data_folders['esca_dataset_mixed']['validation']['esca']),\n",
    "            'healthy': count_images(data_folders['esca_dataset_mixed']['validation']['healthy'])\n",
    "        }\n",
    "    }\n",
    "}\n",
    "\n",
    "# Serializing json\n",
    "json_object = json.dumps(data_folders_info, indent = 4)\n",
    "print(json_object)"
   ],
   "metadata": {
    "collapsed": false,
    "ExecuteTime": {
     "end_time": "2024-02-19T16:57:18.991108Z",
     "start_time": "2024-02-19T16:57:09.794670Z"
    }
   }
  },
  {
   "cell_type": "markdown",
   "metadata": {
    "id": "JMdhs2AQ8Fft"
   },
   "source": [
    "# **Training MyModel**"
   ]
  },
  {
   "cell_type": "code",
   "execution_count": 12,
   "metadata": {
    "id": "onwHOw1KZyyP",
    "colab": {
     "base_uri": "https://localhost:8080/"
    },
    "outputId": "91405530-d641-4340-807f-176a2cf4f252",
    "ExecuteTime": {
     "end_time": "2024-02-19T16:58:50.513913Z",
     "start_time": "2024-02-19T16:58:50.507735Z"
    }
   },
   "outputs": [
    {
     "name": "stdout",
     "output_type": "stream",
     "text": [
      "input_shape: (128, 128, 3)\n"
     ]
    }
   ],
   "source": [
    "class Labels(Enum):\n",
    "    ESCA = 0\n",
    "    HEALTHY = 1\n",
    "\n",
    "# dimensione delle immagini\n",
    "img_width, img_height = 128, 128\n",
    "\n",
    "# input shape\n",
    "if keras.backend.image_data_format() == 'channels_first':\n",
    "    ARCHIVE_DATASET = (3, img_width, img_height)\n",
    "else:\n",
    "    input_shape = (img_width, img_height, 3)\n",
    "    print(f\"input_shape: {input_shape}\")\n",
    "\n",
    "# Fix seed for results reproducibility\n",
    "seed_value = 1\n",
    "#tf.random.set_seed(1)\n",
    "\n",
    "# number of test images\n",
    "n_class = 2\n",
    "epochs = 30\n",
    "batch_size = 64"
   ]
  },
  {
   "cell_type": "markdown",
   "metadata": {
    "id": "-Hzjt_6La7in"
   },
   "source": [
    "# **PREPARE DATSETS FOR MODEL TRAINING**"
   ]
  },
  {
   "cell_type": "markdown",
   "source": [
    "**EXECUTE THE FOLLOWING CELL WHEN YOU WANT TO TRAIN THE MODEL USING ONLY ORIGINAL IMAGES**"
   ],
   "metadata": {
    "id": "VUyaDlQICUEB"
   }
  },
  {
   "cell_type": "code",
   "execution_count": 19,
   "metadata": {
    "id": "5YXRGnvgbFh4",
    "colab": {
     "base_uri": "https://localhost:8080/",
     "height": 250
    },
    "outputId": "3d4e8dfe-39c3-4f4c-ec3b-9ac61c1d67d6",
    "ExecuteTime": {
     "end_time": "2024-02-19T15:22:22.619662Z",
     "start_time": "2024-02-19T15:22:20.158916Z"
    }
   },
   "outputs": [
    {
     "name": "stdout",
     "output_type": "stream",
     "text": [
      "Found 17318 files belonging to 2 classes.\n",
      "Found 266 files belonging to 2 classes.\n"
     ]
    }
   ],
   "source": [
    "train_dataset = image_dataset_from_directory(data_folders['esca_dataset']['train']['.'],\n",
    "                                             labels='inferred',\n",
    "                                             shuffle=True,\n",
    "                                             seed=seed_value,\n",
    "                                             color_mode='rgb',\n",
    "                                             batch_size=batch_size,\n",
    "                                             image_size=(img_width, img_height),\n",
    "                                             label_mode='categorical')\n",
    "\n",
    "validation_dataset = image_dataset_from_directory(data_folders['esca_dataset']['validation']['.'],\n",
    "                                                  labels='inferred',\n",
    "                                                  shuffle=True,\n",
    "                                                  seed=seed_value,\n",
    "                                                  color_mode='rgb',\n",
    "                                                  batch_size=batch_size,\n",
    "                                                  image_size=(img_width, img_height),\n",
    "                                                  label_mode='categorical')"
   ]
  },
  {
   "cell_type": "markdown",
   "source": [
    "**EXECUTE THE FOLLOWING CELL ONLY WHEN YOU WANT TO TRAIN A MODEL USING ALSO IMAGES WITH SWAPPED BACKGROUNDS**"
   ],
   "metadata": {
    "id": "dY6IXwjVCg0I"
   }
  },
  {
   "cell_type": "code",
   "source": [
    "train_dataset = image_dataset_from_directory(data_folders['esca_dataset_mixed']['train']['.'],\n",
    "                                             labels='inferred',\n",
    "                                             shuffle=True,\n",
    "                                             seed=seed_value,\n",
    "                                             color_mode='rgb',\n",
    "                                             batch_size=batch_size,\n",
    "                                             image_size=(img_width, img_height),\n",
    "                                             label_mode='categorical')\n",
    "\n",
    "validation_dataset = image_dataset_from_directory(data_folders['esca_dataset_mixed']['validation']['.'],\n",
    "                                                  labels='inferred',\n",
    "                                                  shuffle=True,\n",
    "                                                  seed=seed_value,\n",
    "                                                  color_mode='rgb',\n",
    "                                                  batch_size=batch_size,\n",
    "                                                  image_size=(img_width, img_height),\n",
    "                                                  label_mode='categorical')"
   ],
   "metadata": {
    "colab": {
     "base_uri": "https://localhost:8080/"
    },
    "id": "O7tFI6Ld4WLB",
    "outputId": "78ae0c8d-6301-4582-bd93-c574a0913735",
    "ExecuteTime": {
     "end_time": "2024-02-19T16:59:01.621149Z",
     "start_time": "2024-02-19T16:58:59.742044Z"
    }
   },
   "execution_count": 13,
   "outputs": [
    {
     "name": "stdout",
     "output_type": "stream",
     "text": [
      "Found 34650 files belonging to 2 classes.\n",
      "Found 531 files belonging to 2 classes.\n"
     ]
    }
   ]
  },
  {
   "cell_type": "markdown",
   "source": [
    "**EXECUTE THE FOLLOWING CELL IN ALL CASES TO COMPLETE DATASET PREPARATION FOR TRAINING**"
   ],
   "metadata": {
    "id": "-mKnP88QCyPC"
   }
  },
  {
   "cell_type": "code",
   "source": [
    "train_dataset = train_dataset.map(lambda images, labels: ((images/255.0), labels))\n",
    "validation_dataset = validation_dataset.map(lambda images, labels: ((images/255.0), labels))\n",
    "\n",
    "# Configure the dataset for performance\n",
    "\n",
    "AUTOTUNE = tf.data.experimental.AUTOTUNE\n",
    "\n",
    "train_dataset = train_dataset.prefetch(buffer_size=AUTOTUNE)\n",
    "validation_dataset = validation_dataset.prefetch(buffer_size=AUTOTUNE)"
   ],
   "metadata": {
    "id": "fM0n1an_21ba",
    "ExecuteTime": {
     "end_time": "2024-02-19T16:59:19.273910Z",
     "start_time": "2024-02-19T16:59:19.248407Z"
    }
   },
   "execution_count": 14,
   "outputs": []
  },
  {
   "cell_type": "markdown",
   "metadata": {
    "id": "foBuQLbNdgJA"
   },
   "source": [
    "**MODEL STRUCT**"
   ]
  },
  {
   "cell_type": "code",
   "source": [
    "tf.random.set_seed(seed_value)\n",
    "np.random.seed(seed_value)\n",
    "\n",
    "model = Sequential()\n",
    "\n",
    "# Feature Learning block:\n",
    "model.add(Conv2D(16, kernel_size=(3,3), padding='same', activation='relu',input_shape=input_shape, name='conv1')),\n",
    "model.add(MaxPooling2D(pool_size=(3,3))),\n",
    "model.add(Conv2D(32, kernel_size=(3,3), padding='same', activation='relu', name='conv2')),\n",
    "model.add(MaxPooling2D(pool_size=(3,3))),\n",
    "model.add(Conv2D(64, kernel_size=(3,3), padding='same', activation='relu', name='conv3')),\n",
    "model.add(MaxPooling2D(pool_size=(2,2))),\n",
    "\n",
    "# Classification block:\n",
    "model.add(Flatten()),\n",
    "model.add(Dense(units = 512, activation='relu', name='dense1')),\n",
    "model.add(Dropout(0.5))\n",
    "model.add(Dense(units = 2, activation = 'softmax', name='output_layer'))\n",
    "\n",
    "model.summary()"
   ],
   "metadata": {
    "id": "ewO5izqONeTs",
    "colab": {
     "base_uri": "https://localhost:8080/"
    },
    "outputId": "d5e384be-e12f-4b33-be5c-4ea3635916d1",
    "ExecuteTime": {
     "end_time": "2024-02-19T16:59:22.763139Z",
     "start_time": "2024-02-19T16:59:22.696500Z"
    }
   },
   "execution_count": 15,
   "outputs": [
    {
     "name": "stdout",
     "output_type": "stream",
     "text": [
      "Model: \"sequential\"\n",
      "_________________________________________________________________\n",
      " Layer (type)                Output Shape              Param #   \n",
      "=================================================================\n",
      " conv1 (Conv2D)              (None, 128, 128, 16)      448       \n",
      "                                                                 \n",
      " max_pooling2d (MaxPooling2  (None, 42, 42, 16)        0         \n",
      " D)                                                              \n",
      "                                                                 \n",
      " conv2 (Conv2D)              (None, 42, 42, 32)        4640      \n",
      "                                                                 \n",
      " max_pooling2d_1 (MaxPoolin  (None, 14, 14, 32)        0         \n",
      " g2D)                                                            \n",
      "                                                                 \n",
      " conv3 (Conv2D)              (None, 14, 14, 64)        18496     \n",
      "                                                                 \n",
      " max_pooling2d_2 (MaxPoolin  (None, 7, 7, 64)          0         \n",
      " g2D)                                                            \n",
      "                                                                 \n",
      " flatten (Flatten)           (None, 3136)              0         \n",
      "                                                                 \n",
      " dense1 (Dense)              (None, 512)               1606144   \n",
      "                                                                 \n",
      " dropout (Dropout)           (None, 512)               0         \n",
      "                                                                 \n",
      " output_layer (Dense)        (None, 2)                 1026      \n",
      "                                                                 \n",
      "=================================================================\n",
      "Total params: 1630754 (6.22 MB)\n",
      "Trainable params: 1630754 (6.22 MB)\n",
      "Non-trainable params: 0 (0.00 Byte)\n",
      "_________________________________________________________________\n"
     ]
    }
   ]
  },
  {
   "cell_type": "code",
   "execution_count": null,
   "metadata": {
    "id": "xExNyKPtR1aP",
    "colab": {
     "base_uri": "https://localhost:8080/",
     "height": 736
    },
    "outputId": "f868a974-aac8-4d78-ffb3-fd412115bb9d"
   },
   "outputs": [
    {
     "output_type": "execute_result",
     "data": {
      "text/plain": [
       "<PIL.Image.Image image mode=RGBA size=755x719>"
      ],
      "image/png": "[encoded data removed]"
     },
     "metadata": {},
     "execution_count": 12
    }
   ],
   "source": [
    "visualkeras.layered_view(model, legend=True)"
   ]
  },
  {
   "cell_type": "code",
   "source": [
    "visualkeras.layered_view(model, scale_xy=2, scale_z=1, max_z=50, legend=True)"
   ],
   "metadata": {
    "id": "fNe1JfAg2i7A",
    "colab": {
     "base_uri": "https://localhost:8080/",
     "height": 395
    },
    "outputId": "13e9e351-f595-4cb6-e672-28e61e5906ab"
   },
   "execution_count": null,
   "outputs": [
    {
     "output_type": "execute_result",
     "data": {
      "text/plain": [
       "<PIL.Image.Image image mode=RGBA size=530x378>"
      ],
      "image/png": "[encoded data removed]"
     },
     "metadata": {},
     "execution_count": 11
    }
   ]
  },
  {
   "cell_type": "markdown",
   "metadata": {
    "id": "XgUaIly5d3PH"
   },
   "source": [
    "**COMPILE THE MODEL**"
   ]
  },
  {
   "cell_type": "code",
   "execution_count": 16,
   "metadata": {
    "id": "ppqOKtd4H2Kx",
    "ExecuteTime": {
     "end_time": "2024-02-19T16:59:27.323267Z",
     "start_time": "2024-02-19T16:59:27.310167Z"
    }
   },
   "outputs": [
    {
     "name": "stderr",
     "output_type": "stream",
     "text": [
      "WARNING:absl:At this time, the v2.11+ optimizer `tf.keras.optimizers.Adadelta` runs slowly on M1/M2 Macs, please use the legacy Keras optimizer instead, located at `tf.keras.optimizers.legacy.Adadelta`.\n"
     ]
    }
   ],
   "source": [
    "model.compile(loss='categorical_crossentropy',\n",
    "              optimizer=keras.optimizers.Adadelta(learning_rate=1, name='Adadelta'),\n",
    "              metrics=['accuracy'])"
   ]
  },
  {
   "cell_type": "markdown",
   "metadata": {
    "id": "-kcCgCmKedUB"
   },
   "source": [
    "**TRAINING AND SAVING THE MODEL**"
   ]
  },
  {
   "cell_type": "code",
   "execution_count": 17,
   "metadata": {
    "id": "QBKtA5vRIPmj",
    "colab": {
     "base_uri": "https://localhost:8080/",
     "height": 453
    },
    "outputId": "bcdda462-58d7-4fb4-83e5-1f062844c2a3",
    "ExecuteTime": {
     "end_time": "2024-02-19T21:27:00.428840Z",
     "start_time": "2024-02-19T16:59:31.094313Z"
    }
   },
   "outputs": [
    {
     "name": "stdout",
     "output_type": "stream",
     "text": [
      "Epoch 1/30\n",
      "542/542 [==============================] - 523s 948ms/step - loss: 0.4275 - accuracy: 0.7935 - val_loss: 0.1899 - val_accuracy: 0.9303\n",
      "Epoch 2/30\n",
      "542/542 [==============================] - 524s 952ms/step - loss: 0.1442 - accuracy: 0.9457 - val_loss: 0.1406 - val_accuracy: 0.9435\n",
      "Epoch 3/30\n",
      "542/542 [==============================] - 817s 1s/step - loss: 0.0814 - accuracy: 0.9708 - val_loss: 0.0506 - val_accuracy: 0.9774\n",
      "Epoch 4/30\n"
     ]
    },
    {
     "name": "stderr",
     "output_type": "stream",
     "text": [
      "2024-02-19 18:30:45.305143: I tensorflow/core/kernels/data/shuffle_dataset_op.cc:422] ShuffleDatasetV3:5: Filling up shuffle buffer (this may take a while): 445 of 512\n",
      "2024-02-19 18:30:47.014862: I tensorflow/core/kernels/data/shuffle_dataset_op.cc:452] Shuffle buffer filled.\n"
     ]
    },
    {
     "name": "stdout",
     "output_type": "stream",
     "text": [
      "542/542 [==============================] - 577s 1s/step - loss: 0.0525 - accuracy: 0.9816 - val_loss: 0.0645 - val_accuracy: 0.9812\n",
      "Epoch 5/30\n",
      "542/542 [==============================] - 536s 974ms/step - loss: 0.0383 - accuracy: 0.9869 - val_loss: 0.0618 - val_accuracy: 0.9793\n",
      "Epoch 6/30\n",
      "542/542 [==============================] - 528s 959ms/step - loss: 0.0264 - accuracy: 0.9911 - val_loss: 0.0354 - val_accuracy: 0.9849\n",
      "Epoch 7/30\n",
      "542/542 [==============================] - 526s 954ms/step - loss: 0.0195 - accuracy: 0.9932 - val_loss: 0.0278 - val_accuracy: 0.9868\n",
      "Epoch 8/30\n",
      "542/542 [==============================] - 529s 960ms/step - loss: 0.0155 - accuracy: 0.9952 - val_loss: 0.0248 - val_accuracy: 0.9906\n",
      "Epoch 9/30\n",
      "542/542 [==============================] - 541s 983ms/step - loss: 0.0098 - accuracy: 0.9965 - val_loss: 0.0316 - val_accuracy: 0.9887\n",
      "Epoch 10/30\n",
      "542/542 [==============================] - 495s 899ms/step - loss: 0.0100 - accuracy: 0.9966 - val_loss: 0.0231 - val_accuracy: 0.9906\n",
      "Epoch 11/30\n",
      "542/542 [==============================] - 523s 949ms/step - loss: 0.0067 - accuracy: 0.9976 - val_loss: 0.0322 - val_accuracy: 0.9868\n",
      "Epoch 12/30\n",
      "542/542 [==============================] - 521s 943ms/step - loss: 0.0084 - accuracy: 0.9976 - val_loss: 0.0319 - val_accuracy: 0.9849\n",
      "Epoch 13/30\n",
      "542/542 [==============================] - 511s 931ms/step - loss: 0.0053 - accuracy: 0.9985 - val_loss: 0.0404 - val_accuracy: 0.9887\n",
      "Epoch 14/30\n",
      "542/542 [==============================] - 523s 950ms/step - loss: 0.0048 - accuracy: 0.9985 - val_loss: 0.0319 - val_accuracy: 0.9868\n",
      "Epoch 15/30\n",
      "542/542 [==============================] - 499s 906ms/step - loss: 0.0040 - accuracy: 0.9990 - val_loss: 0.0282 - val_accuracy: 0.9906\n",
      "Epoch 16/30\n",
      "542/542 [==============================] - 522s 949ms/step - loss: 0.0048 - accuracy: 0.9987 - val_loss: 0.0449 - val_accuracy: 0.9849\n",
      "Epoch 17/30\n",
      "542/542 [==============================] - 525s 953ms/step - loss: 0.0048 - accuracy: 0.9985 - val_loss: 0.0355 - val_accuracy: 0.9849\n",
      "Epoch 18/30\n",
      "542/542 [==============================] - 523s 950ms/step - loss: 0.0041 - accuracy: 0.9987 - val_loss: 0.0555 - val_accuracy: 0.9849\n",
      "Epoch 19/30\n",
      "542/542 [==============================] - 578s 1s/step - loss: 0.0024 - accuracy: 0.9993 - val_loss: 0.0656 - val_accuracy: 0.9849\n",
      "Epoch 20/30\n",
      "542/542 [==============================] - 515s 934ms/step - loss: 0.0022 - accuracy: 0.9992 - val_loss: 0.1413 - val_accuracy: 0.9793\n",
      "Epoch 21/30\n",
      "542/542 [==============================] - 529s 958ms/step - loss: 0.0037 - accuracy: 0.9989 - val_loss: 0.0498 - val_accuracy: 0.9831\n",
      "Epoch 22/30\n",
      "542/542 [==============================] - 523s 951ms/step - loss: 0.0025 - accuracy: 0.9991 - val_loss: 0.0501 - val_accuracy: 0.9868\n",
      "Epoch 23/30\n",
      "542/542 [==============================] - 518s 941ms/step - loss: 0.0015 - accuracy: 0.9994 - val_loss: 0.0239 - val_accuracy: 0.9925\n",
      "Epoch 24/30\n",
      "542/542 [==============================] - 512s 930ms/step - loss: 0.0022 - accuracy: 0.9992 - val_loss: 0.0706 - val_accuracy: 0.9849\n",
      "Epoch 25/30\n",
      "542/542 [==============================] - 527s 957ms/step - loss: 0.0011 - accuracy: 0.9995 - val_loss: 0.0772 - val_accuracy: 0.9831\n",
      "Epoch 26/30\n",
      "542/542 [==============================] - 524s 952ms/step - loss: 0.0036 - accuracy: 0.9991 - val_loss: 0.0310 - val_accuracy: 0.9906\n",
      "Epoch 27/30\n",
      "542/542 [==============================] - 513s 932ms/step - loss: 0.0065 - accuracy: 0.9982 - val_loss: 0.0622 - val_accuracy: 0.9849\n",
      "Epoch 28/30\n",
      "542/542 [==============================] - 525s 953ms/step - loss: 8.3248e-04 - accuracy: 0.9997 - val_loss: 0.0620 - val_accuracy: 0.9868\n",
      "Epoch 29/30\n",
      "542/542 [==============================] - 519s 943ms/step - loss: 7.7320e-04 - accuracy: 0.9999 - val_loss: 0.0278 - val_accuracy: 0.9906\n",
      "Epoch 30/30\n",
      "542/542 [==============================] - 523s 950ms/step - loss: 8.9256e-04 - accuracy: 0.9998 - val_loss: 0.0274 - val_accuracy: 0.9925\n",
      "Time taken for training: 16049.310643911362 sec\n"
     ]
    }
   ],
   "source": [
    "# training\n",
    "start = time.time()\n",
    "\n",
    "with tf.device('/device:GPU:0'):\n",
    "\n",
    "  history = model.fit(\n",
    "      train_dataset,\n",
    "      #steps_per_epoch=nb_train_samples // batch_size,\n",
    "      epochs=epochs,\n",
    "      batch_size = batch_size,\n",
    "      validation_data=validation_dataset,\n",
    "      verbose=True)\n",
    "      #validation_steps=nb_validation_samples // batch_size)\n",
    "\n",
    "print ('Time taken for training: {} sec\\n'.format(time.time() - start))"
   ]
  },
  {
   "cell_type": "code",
   "execution_count": 18,
   "metadata": {
    "id": "V0Pr4hg8SpeI",
    "ExecuteTime": {
     "end_time": "2024-02-19T22:03:35.563793Z",
     "start_time": "2024-02-19T22:03:35.551776Z"
    }
   },
   "outputs": [],
   "source": [
    "# Define function to estimate model size\n",
    "\n",
    "def get_file_size(file_path):\n",
    "    size = os.path.getsize(file_path)\n",
    "    return size\n",
    "\n",
    "def convert_bytes(size, unit=None):\n",
    "    if unit == \"KB\":\n",
    "        return print('File size: ' + str(round(size / 1024, 3)) + ' KB')\n",
    "    elif unit == \"MB\":\n",
    "        return print('File size: ' + str(round(size / (1024 * 1024), 3)) + ' MB')\n",
    "    else:\n",
    "        return print('File size: ' + str(size) + ' bytes')"
   ]
  },
  {
   "cell_type": "markdown",
   "source": [
    "**EXECUTE THE FOLLOWING CELL WHEN YOU TRAINED THE MODEL ON JUST THE STANDARD DATASET**"
   ],
   "metadata": {
    "id": "YZtvGQjeDTDk"
   }
  },
  {
   "cell_type": "code",
   "source": [
    "MODELS_PATH = '.'\n",
    "model.save(os.path.join(MODELS_PATH, 'CNN_Esca_model.keras'))\n",
    "# Compute model size\n",
    "convert_bytes(get_file_size(os.path.join(MODELS_PATH, 'CNN_Esca_model.keras')), \"MB\")\n",
    "convert_bytes(get_file_size(os.path.join(MODELS_PATH, 'CNN_Esca_model.keras')), \"KB\")\n",
    "get_file_size(os.path.join(MODELS_PATH, 'CNN_Esca_model.keras'))"
   ],
   "metadata": {
    "colab": {
     "base_uri": "https://localhost:8080/"
    },
    "id": "j8k4BkMjDO5D",
    "outputId": "9f84d21c-9a66-4383-c4eb-37a10a23a004",
    "ExecuteTime": {
     "end_time": "2024-02-19T15:21:24.482488Z",
     "start_time": "2024-02-19T15:21:23.934588Z"
    }
   },
   "execution_count": 17,
   "outputs": [
    {
     "name": "stdout",
     "output_type": "stream",
     "text": [
      "File size: 18.707 MB\n",
      "File size: 19156.046 KB\n"
     ]
    },
    {
     "data": {
      "text/plain": "19615791"
     },
     "execution_count": 17,
     "metadata": {},
     "output_type": "execute_result"
    }
   ]
  },
  {
   "cell_type": "markdown",
   "source": [
    "**EXECUTE THE FOLLOWING CELL WHEN YOU TRAINED THE MODEL ON THE DATASET ENRICHED WITH SWAPPED BACKGROUND IMAGES**"
   ],
   "metadata": {
    "id": "rYV7-zIQDvBv"
   }
  },
  {
   "cell_type": "code",
   "source": [
    "MODELS_PATH = '.'\n",
    "model.save(os.path.join(MODELS_PATH, 'CNN_Esca_model_retrained.keras'))\n",
    "# Compute model size\n",
    "convert_bytes(get_file_size(os.path.join(MODELS_PATH, 'CNN_Esca_model_retrained.keras')), \"MB\")\n",
    "convert_bytes(get_file_size(os.path.join(MODELS_PATH, 'CNN_Esca_model_retrained.keras')), \"KB\")\n",
    "get_file_size(os.path.join(MODELS_PATH, 'CNN_Esca_model_retrained.keras'))"
   ],
   "metadata": {
    "id": "Y4SLHQ4BQA6D",
    "ExecuteTime": {
     "end_time": "2024-02-19T22:03:44.174941Z",
     "start_time": "2024-02-19T22:03:43.506730Z"
    }
   },
   "execution_count": 19,
   "outputs": [
    {
     "name": "stdout",
     "output_type": "stream",
     "text": [
      "File size: 18.707 MB\n",
      "File size: 19156.046 KB\n"
     ]
    },
    {
     "data": {
      "text/plain": "19615791"
     },
     "execution_count": 19,
     "metadata": {},
     "output_type": "execute_result"
    }
   ]
  },
  {
   "cell_type": "markdown",
   "metadata": {
    "id": "fgN0hKEgeumO"
   },
   "source": [
    "**GRAPH OF THE TRAINING AND VALIDATION PROGRESS**"
   ]
  },
  {
   "cell_type": "code",
   "execution_count": 20,
   "outputs": [
    {
     "data": {
      "text/plain": "<Figure size 800x800 with 2 Axes>",
      "image/png": "[encoded data removed]"
     },
     "metadata": {},
     "output_type": "display_data"
    }
   ],
   "source": [
    "# plot the graph\n",
    "\n",
    "acc = history.history['accuracy']\n",
    "val_acc = history.history['val_accuracy']\n",
    "\n",
    "loss = history.history['loss']\n",
    "val_loss = history.history['val_loss']\n",
    "\n",
    "plt.figure(figsize=(8, 8))\n",
    "plt.subplot(2, 1, 1)\n",
    "plt.plot(acc, label='Training Accuracy')\n",
    "plt.plot(val_acc, label='Validation Accuracy')\n",
    "plt.legend(loc='lower right')\n",
    "plt.ylabel('Accuracy')\n",
    "plt.ylim([min(plt.ylim()),1])\n",
    "plt.title('Training and Validation Accuracy')\n",
    "\n",
    "plt.subplot(2, 1, 2)\n",
    "plt.plot(loss, label='Training Loss')\n",
    "plt.plot(val_loss, label='Validation Loss')\n",
    "plt.legend(loc='upper right')\n",
    "plt.ylabel('Cross Entropy')\n",
    "plt.ylim([0,1.0])\n",
    "plt.title('Training and Validation Loss')\n",
    "plt.xlabel('epoch')\n",
    "plt.show()"
   ],
   "metadata": {
    "collapsed": false,
    "ExecuteTime": {
     "end_time": "2024-02-19T22:04:53.725957Z",
     "start_time": "2024-02-19T22:04:53.251093Z"
    }
   }
  },
  {
   "cell_type": "code",
   "execution_count": null,
   "outputs": [],
   "source": [],
   "metadata": {
    "collapsed": false
   }
  }
 ],
 "metadata": {
  "colab": {
   "provenance": []
  },
  "kernelspec": {
   "name": "python3",
   "language": "python",
   "display_name": "Python 3 (ipykernel)"
  },
  "accelerator": "TPU"
 },
 "nbformat": 4,
 "nbformat_minor": 0
}
